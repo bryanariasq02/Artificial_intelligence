{
 "cells": [
  {
   "cell_type": "markdown",
   "source": [
    "# Trastornos relacionados con Factores del estres"
   ],
   "metadata": {
    "collapsed": false
   }
  },
  {
   "cell_type": "markdown",
   "source": [
    "## Descargando e Importando libreria"
   ],
   "metadata": {
    "collapsed": false
   }
  },
  {
   "cell_type": "code",
   "execution_count": 7,
   "metadata": {
    "collapsed": true
   },
   "outputs": [
    {
     "name": "stdout",
     "output_type": "stream",
     "text": [
      "Requirement already satisfied: Experta in c:\\users\\sneyd\\lib\\site-packages (1.9.4)\n",
      "Requirement already satisfied: frozendict==1.2 in c:\\users\\sneyd\\lib\\site-packages (from Experta) (1.2)\n",
      "Requirement already satisfied: schema==0.6.7 in c:\\users\\sneyd\\lib\\site-packages (from Experta) (0.6.7)\n"
     ]
    },
    {
     "name": "stderr",
     "output_type": "stream",
     "text": [
      "WARNING: You are using pip version 21.3.1; however, version 22.0.3 is available.\n",
      "You should consider upgrading via the 'C:\\Users\\sneyd\\Scripts\\python.exe -m pip install --upgrade pip' command.\n"
     ]
    }
   ],
   "source": [
    "!pip install Experta"
   ]
  },
  {
   "cell_type": "code",
   "execution_count": 8,
   "outputs": [],
   "source": [
    "from experta import *"
   ],
   "metadata": {
    "collapsed": false,
    "pycharm": {
     "name": "#%%\n"
    }
   }
  },
  {
   "cell_type": "markdown",
   "source": [
    "## Creando variables\n",
    "\n",
    "De estilo diccionarios y listas"
   ],
   "metadata": {
    "collapsed": false
   }
  },
  {
   "cell_type": "code",
   "execution_count": 9,
   "outputs": [],
   "source": [
    "lista_enfermedades = []\n",
    "lista_sintomas = []\n",
    "sintomas_enfermedades = []\n",
    "mapa_sintoma = {}\n",
    "descripcion = {}\n",
    "tratamientos = {}"
   ],
   "metadata": {
    "collapsed": false,
    "pycharm": {
     "name": "#%%\n"
    }
   }
  },
  {
   "cell_type": "markdown",
   "source": [
    "## Cargando los datos expertos en variables"
   ],
   "metadata": {
    "collapsed": false
   }
  },
  {
   "cell_type": "code",
   "execution_count": 18,
   "outputs": [
    {
     "name": "stdout",
     "output_type": "stream",
     "text": [
      "['trastorno_de_apego_reactivo', 'trastorno_de_relacion_social_desinhibida', 'trastorno_de_estres _postraumatico', 'trastorno_de_estres _agudo', 'trastorno_de_adaptacion', 'otros_trastornos_relacionados']\n",
      "\n",
      "\n",
      "['1.Raramente o muy pocas veces busca consuelo cuando siente malestar.', '2.Deterioro significativos en losocial, laboral u otras áreas importantes del funcionamiento.', '3.Recurre poco o nada al cuidador adulto después de una salida arriesgada, incluso en contextos extraños.', '4.Reacciones disociativas', '5.Alteración del sueño', '7.Reacción social y emocional mínima a los demás', '8.Experiencia directa del suceso(s) traumático(s).', '9.Malestar intenso desproporcionado a la gravedad o intensidad del factor de estrés, teniendo en cuenta el contexto externo y los factores culturales que podrían influir en la gravedad y la presentación de los síntomas.', '10.Incapacidad persistente de experimentar emociones positivas', '11.Reducción o ausencia de reticencia para aproximarse e interaccionar con adultos extraños.', '12.Respuesta de sobresalto exagerada', '13.Comportamiento verbal o físico demasiado familiar.', '14.Comportamiento irritable y arrebatos de furia', '15.Afecto positivo limitado.']\n",
      "\n",
      "\n",
      "{'trastorno_de_apego_reactivo': 'Patrón constante de comportamiento inhibido, emocionalmente retraído hacia los cuidadores adultos, alteración social y emocional persistente. Es evidente incluso durante las interacciones no amenazadoras con los cuidadores adultos.', 'trastorno_de_relacion_social_desinhibida': 'Patrón de comportamiento en el que un niño se aproxima e interacciona activamente con adultos extraños, Los comportamientos no se limitan a la impulsividad (como en el trastorno por déficit de atención con hiperactividad) pero incluyen un comportamiento socialmente desinhibido.', 'trastorno_de_estres _postraumatico': 'Trastorno caracterizado por la imposibilidad de recuperarse después de experimentar o presenciar un evento atemorizante.\\nEl trastorno puede durar desde meses hasta años y suele haber episodios que recuerdan el trauma y causan intensas reacciones emocionales y físicas.\\nEntre los síntomas se encuentran tener pesadillas o recuerdos repentinos, evitar situaciones que recuerden el trauma, reaccionar exageradamente ante los estímulos, y sufrir de ansiedad o depresión.', 'trastorno_de_estres _agudo': 'El trastorno por estrés agudo consiste en una reacción disfuncional, desagradable e intensa que comienza poco después de un acontecimiento traumático o abrumador y que se prolonga durante menos de un mes. Si los síntomas persisten durante más de un mes, se diagnostica un trastorno de estrés postraumático.', 'trastorno_de_adaptacion': 'Los trastornos de adaptación son afecciones relacionadas con el estrés. Sufres más estrés del que normalmente se esperaría en respuesta a un suceso estresante o inesperado, y el estrés provoca problemas significativos en tus relaciones, el trabajo o la escuela.', 'otros_trastornos_relacionados': 'Los síntomas característicos de un trastorno relacionado con traumas y factores de estrés que causan malestar clínicamente significativo o deterioro en lo social, laboral u otras áreas importantes del funcionamiento pero que no cumplen todos los criterios de ninguno de los trastornos de la categoría diagnóstica de los trastornos relacionado con traumas y factores de estrés.'}\n",
      "\n",
      "\n",
      "{'trastorno_de_apego_reactivo': 'Requiere de un abordaje multidisciplinar en que pueden confluir profesionales de la psicologia, la medicina, la asistencia social, la educacion y el ambito.', 'trastorno_de_relacion_social_desinhibida': 'El tratamiento siempre tendra en cuenta que el niño se sienta comodo en su entorno diario y podra utilizar herramientas como el juego o el dibujo. El objetivo sera dar apoyo a la familia, facilitar su comprensión sobre el trastorno y fortalecer el vinculo entre los padres y el hijo.', 'trastorno_de_estres _postraumatico': 'El tratamiento principal es la psicoterapia, pero esta afección también se trata con medicamentos.', 'trastorno_de_estres _agudo': 'Los fármacos antiadrenérgicos (p. ej., clonidina, guanfacina, prazosina) pueden ayudar a aliviar los síntomas de hiperexcitación, pero los datos de aval son preliminares.', 'trastorno_de_adaptacion': 'Los tratamientos para este trastorno comprenden psicoterapia, medicamentos o ambos.', 'otros_trastornos_relacionados': 'Consulte con su medico de cabecera.'}\n"
     ]
    }
   ],
   "source": [
    "enfermedades = open(r\"diseases.txt\", mode='r', encoding='utf-8-sig')\n",
    "enfermedades_t = enfermedades.read()\n",
    "lista_enfermedades = enfermedades_t.split(\"\\n\")\n",
    "enfermedades.close()\n",
    "print(lista_enfermedades)\n",
    "print('')\n",
    "print('')\n",
    "\n",
    "tipos_sintomas = open(r\"Tipos de sintomas.txt\", mode='r', encoding='utf-8-sig')\n",
    "sintomas_t = tipos_sintomas.read()\n",
    "lista_sintomas = sintomas_t.split(\"\\n\")\n",
    "tipos_sintomas.close()\n",
    "print(lista_sintomas)\n",
    "print('')\n",
    "print('')\n",
    "\n",
    "for enfermedad in lista_enfermedades:\n",
    "    archivo_enfermedades = open(r'enfermedades_base/descripcion/' + enfermedad + '.txt', encoding='utf-8-sig')\n",
    "    datos_enfermedades = archivo_enfermedades.read()\n",
    "    descripcion[enfermedad] = datos_enfermedades\n",
    "    archivo_enfermedades.close()\n",
    "\n",
    "    archivo_tratamientos = open(r\"enfermedades_base/Tratamiento de enfermedades/\" + enfermedad + \".txt\", encoding='utf-8-sig')\n",
    "    datos_tratamientos = archivo_tratamientos.read()\n",
    "    tratamientos[enfermedad] = datos_tratamientos\n",
    "    archivo_tratamientos.close()\n",
    "\n",
    "print(descripcion)\n",
    "print('')\n",
    "print('')\n",
    "print(tratamientos)"
   ],
   "metadata": {
    "collapsed": false,
    "pycharm": {
     "name": "#%%\n"
    }
   }
  },
  {
   "cell_type": "code",
   "execution_count": null,
   "outputs": [],
   "source": [],
   "metadata": {
    "collapsed": false,
    "pycharm": {
     "name": "#%%\n"
    }
   }
  }
 ],
 "metadata": {
  "kernelspec": {
   "display_name": "Python 3",
   "language": "python",
   "name": "python3"
  },
  "language_info": {
   "codemirror_mode": {
    "name": "ipython",
    "version": 2
   },
   "file_extension": ".py",
   "mimetype": "text/x-python",
   "name": "python",
   "nbconvert_exporter": "python",
   "pygments_lexer": "ipython2",
   "version": "2.7.6"
  }
 },
 "nbformat": 4,
 "nbformat_minor": 0
}