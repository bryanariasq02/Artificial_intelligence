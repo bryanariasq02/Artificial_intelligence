{
  "nbformat": 4,
  "nbformat_minor": 0,
  "metadata": {
    "colab": {
      "name": "Clase_2_C.ipynb",
      "provenance": [],
      "include_colab_link": true
    },
    "kernelspec": {
      "name": "python3",
      "display_name": "Python 3"
    },
    "language_info": {
      "name": "python"
    }
  },
  "cells": [
    {
      "cell_type": "markdown",
      "metadata": {
        "id": "view-in-github",
        "colab_type": "text"
      },
      "source": [
        "<a href=\"https://colab.research.google.com/github/sneydermc3007/Artificial_intelligence/blob/main/Clase_2_C.ipynb\" target=\"_parent\"><img src=\"https://colab.research.google.com/assets/colab-badge.svg\" alt=\"Open In Colab\"/></a>"
      ]
    },
    {
      "cell_type": "markdown",
      "source": [
        "# Universidad Católica Luis Amigó\n",
        "\n",
        "Curso: Fundamentos de Inteligencia Artificial\n",
        "\n",
        "Docente: Juan Carlos Briñez de León\n"
      ],
      "metadata": {
        "id": "X7yuONNIKi_M"
      }
    },
    {
      "cell_type": "markdown",
      "source": [
        "# Clase 2: Sistemas expertos"
      ],
      "metadata": {
        "id": "x2IagsjFKk4I"
      }
    },
    {
      "cell_type": "markdown",
      "source": [
        "Un ejercicio un poco mas complejo."
      ],
      "metadata": {
        "id": "NyKDMIIvhq56"
      }
    },
    {
      "cell_type": "code",
      "source": [
        "!pip install Experta"
      ],
      "metadata": {
        "colab": {
          "base_uri": "https://localhost:8080/"
        },
        "id": "nMjLNLuOiLHI",
        "outputId": "ed5d8094-87c9-4ec5-beca-d034e4f8a9a7"
      },
      "execution_count": 2,
      "outputs": [
        {
          "output_type": "stream",
          "name": "stdout",
          "text": [
            "Collecting Experta\n",
            "  Downloading experta-1.9.4-py3-none-any.whl (35 kB)\n",
            "Collecting frozendict==1.2\n",
            "  Downloading frozendict-1.2.tar.gz (2.6 kB)\n",
            "Collecting schema==0.6.7\n",
            "  Downloading schema-0.6.7-py2.py3-none-any.whl (14 kB)\n",
            "Building wheels for collected packages: frozendict\n",
            "  Building wheel for frozendict (setup.py) ... \u001b[?25l\u001b[?25hdone\n",
            "  Created wheel for frozendict: filename=frozendict-1.2-py3-none-any.whl size=3166 sha256=748acc884b4474f1e28a5c57a072e85fd6b2d349effbb2ceec95db94e80a2d8d\n",
            "  Stored in directory: /root/.cache/pip/wheels/68/17/69/ac196dd181e620bba5fae5488e4fd6366a7316dce13cf88776\n",
            "Successfully built frozendict\n",
            "Installing collected packages: schema, frozendict, Experta\n",
            "Successfully installed Experta-1.9.4 frozendict-1.2 schema-0.6.7\n"
          ]
        }
      ]
    },
    {
      "cell_type": "code",
      "source": [
        "from experta import *"
      ],
      "metadata": {
        "id": "wQrUEShBVBqX"
      },
      "execution_count": 3,
      "outputs": []
    },
    {
      "cell_type": "markdown",
      "source": [
        "Creando variables de conocimeinto e información."
      ],
      "metadata": {
        "id": "2mAuRGte6ySB"
      }
    },
    {
      "cell_type": "code",
      "source": [
        "diseases_list = []  #Lista vacía\n",
        "symptoms_list = []  #Lista vacía\n",
        "diseases_symptoms = []  #Lista vacía\n",
        "symptom_map = {}   #Diccionario vacío\n",
        "d_desc_map = {}    #Diccionario vacío\n",
        "d_treatment_map = {}    #Diccionario vacío"
      ],
      "metadata": {
        "id": "HFMlufjP66Cg"
      },
      "execution_count": 4,
      "outputs": []
    },
    {
      "cell_type": "markdown",
      "source": [
        "Cargando el conocimiento del experto en variables"
      ],
      "metadata": {
        "id": "9NPRaAj97kw3"
      }
    },
    {
      "cell_type": "code",
      "source": [
        "#global diseases_list,symptoms_list,diseases_symptoms,symptom_map,d_desc_map,d_treatment_map\n",
        "\n",
        "diseases = open(r\"/content/drive/MyDrive/IA/Clase2_IA/Medical-Expert-System-Knowledge-Base-master/diseases.txt\")\n",
        "diseases_t = diseases.read()\n",
        "diseases_list = diseases_t.split(\"\\n\")\n",
        "diseases.close()\n",
        "print(diseases_list)\n",
        "print('')\n",
        "print('')\n",
        "\n",
        "T_symptoms = open(r\"/content/drive/MyDrive/IA/Clase2_IA/Medical-Expert-System-Knowledge-Base-master/Type of symptoms.txt\")\n",
        "symptoms_t = T_symptoms.read()\n",
        "symptoms_list = symptoms_t.split(\"\\n\")\n",
        "T_symptoms.close()\n",
        "print(symptoms_list)\n",
        "print('')\n",
        "print('')\n",
        "\n",
        "for disease in diseases_list:\n",
        "\tdisease_s_file = open(r\"/content/drive/MyDrive/IA/Clase2_IA/Medical-Expert-System-Knowledge-Base-master/Disease symptoms/\" + disease + \".txt\")\n",
        "\tdisease_s_data = disease_s_file.read()\n",
        "\ts_list = disease_s_data.split(\"\\n\")\n",
        "\tdiseases_symptoms.append(s_list)\n",
        "\tsymptom_map[str(s_list)] = disease\n",
        "\tdisease_s_file.close()\n",
        "\n",
        "\tdisease_d_file = open(\"/content/drive/MyDrive/IA/Clase2_IA/Medical-Expert-System-Knowledge-Base-master/Disease descriptions/\" + disease + \".txt\")\n",
        "\tdisease_d_data = disease_d_file.read()\n",
        "\td_desc_map[disease] = disease_d_data\n",
        "\tdisease_d_file.close()\n",
        "\t\n",
        "\tdisease_t_file = open(\"/content/drive/MyDrive/IA/Clase2_IA/Medical-Expert-System-Knowledge-Base-master/Disease treatments/\" + disease + \".txt\")\n",
        "\tdisease_t_data = disease_t_file.read()\n",
        "\td_treatment_map[disease] = disease_t_data\n",
        "\tdisease_t_file.close()\n",
        "\n",
        "print(symptom_map)\n",
        "print('')\n",
        "print('')\n",
        "print(d_desc_map)\n",
        "print('')\n",
        "print('')\n",
        "print(d_treatment_map)\n",
        "print('')\n",
        "print('')"
      ],
      "metadata": {
        "id": "OTyEm2w9lCQC",
        "colab": {
          "base_uri": "https://localhost:8080/"
        },
        "outputId": "224eb189-f02a-4f39-8612-8c06e3673dd8"
      },
      "execution_count": 5,
      "outputs": [
        {
          "output_type": "stream",
          "name": "stdout",
          "text": [
            "['Jaundice', 'Alzheimers', 'Arthritis', 'Tuberculosis', 'Asthma', 'Sinusitis', 'Epilepsy', 'Heart Disease', 'Diabetes', 'Glaucoma', 'Hyperthyroidism', 'Heat Stroke', 'Hypothermia']\n",
            "\n",
            "\n",
            "['headache', 'back_pain', 'chest_pain', 'cough', 'fainting', 'sore_throat', 'fatigue', 'restlessness', 'low_body_temp', 'fever', 'sunken_eyes', 'nausea', 'blurred_vision', '']\n",
            "\n",
            "\n",
            "{\"['no', 'no', 'no', 'no', 'no', 'no', 'yes', 'no', 'no', 'yes', 'no', 'yes', 'no']\": 'Jaundice', \"['no', 'no', 'no', 'no', 'no', 'no', 'no', 'yes', 'no', 'no', 'no', 'no', 'no']\": 'Alzheimers', \"['no', 'yes', 'no', 'no', 'no', 'no', 'yes', 'no', 'no', 'no', 'no', 'no', 'no']\": 'Arthritis', \"['no', 'no', 'yes', 'yes', 'no', 'no', 'no', 'no', 'no', 'yes', 'no', 'no', 'no']\": 'Tuberculosis', \"['no', 'no', 'yes', 'yes', 'no', 'no', 'no', 'yes', 'no', 'no', 'no', 'no', 'no']\": 'Asthma', \"['yes', 'no', 'no', 'yes', 'no', 'yes', 'no', 'no', 'no', 'yes', 'no', 'no', 'no']\": 'Sinusitis', \"['no', 'no', 'no', 'no', 'no', 'no', 'yes', 'no', 'no', 'no', 'no', 'no', 'no']\": 'Epilepsy', \"['no', 'no', 'yes', 'no', 'no', 'no', 'no', 'no', 'no', 'no', 'no', 'yes', 'no']\": 'Heart Disease', \"['no', 'no', 'no', 'no', 'no', 'no', 'yes', 'no', 'no', 'no', 'no', 'yes', 'yes']\": 'Diabetes', \"['yes', 'no', 'no', 'no', 'no', 'no', 'no', 'no', 'no', 'no', 'no', 'yes', 'yes']\": 'Glaucoma', \"['no', 'no', 'no', 'no', 'no', 'no', 'yes', 'no', 'no', 'no', 'no', 'yes', 'no']\": 'Hyperthyroidism', \"['yes', 'no', 'no', 'no', 'no', 'no', 'no', 'no', 'no', 'yes', 'no', 'yes', 'no']\": 'Heat Stroke', \"['no', 'no', 'no', 'no', 'yes', 'no', 'no', 'no', 'yes', 'no', 'no', 'no', 'no']\": 'Hypothermia'}\n",
            "\n",
            "\n",
            "{'Jaundice': \"Jaundice is a term used to describe a yellowish tinge to the skin and the whites of the eye. Body fluids may also be yellow.\\n\\nThe color of the skin and whites of the eyes will vary depending on levels of bilirubin. Bilirubin is a waste material found in the blood. \\n\\nModerate levels lead to a yellow color, while very high levels will appear brown.\\nAn inflamed liver or obstructed bile duct can lead to jaundice, as well as other underlying conditions.\\n\\nUnderlying conditions that may cause jaundice include:\\n\\nAcute inflammation of the liver: This may impair the ability of the liver to conjugate and secrete bilirubin, resulting in a buildup.\\n\\nInflammation of the bile duct: This can prevent the secretion of bile and removal of bilirubin, causing jaundice.\\n\\nObstruction of the bile duct: This prevents the liver from disposing of bilirubin.\\nHemolytic anemia: The production of bilirubin increases when large quantities of red blood cells are broken down.\\n\\nGilbert's syndrome: This is an inherited condition that impairs the ability of enzymes to process the excretion of bile.\\n\\nCholestasis: This interrupts the flow of bile from the liver. The bile containing conjugated bilirubin remains in the liver instead of being excreted.\\n\\nDiagnosis:\\n\\nThe yellowing of skin and eyes are likely to be the main clues a doctor will use before confirming a jaundice diagnosis.\\n\\nA physical examination will be carried out to look for signs of swelling of the liver and legs, ankles or feet, which might indicate cirrhosis of the liver.\", 'Alzheimers': \"Alzheimer's disease (AD), also referred to simply as Alzheimer's, is a chronic neurodegenerative disease that usually starts slowly and worsens over time.\\n\\nAs a person's condition declines, they often withdraw from family and society. Gradually, bodily functions are lost, ultimately leading to death. Although the speed of progression can vary, the average life expectancy following diagnosis is three to nine years.\\n\\nThe cause of Alzheimer's disease is poorly understood. About 70% of the risk is believed to be genetic with many genes usually involved.\\n\\nA probable diagnosis is based on the history of the illness and cognitive testing with medical imaging and blood tests to rule out other possible causes\", 'Arthritis': \"Arthritis is Inflammation of one or more joints, causing pain and stiffness that can worsen with age.\\n\\nArthritis is very common but is not well understood.\\n\\nDifferent types of arthritis exist, each with different causes including wear and tear, infections and underlying diseases.\\n\\nThere are over 100 types of arthritis. The most common forms are osteoarthritis (degenerative joint disease) and rheumatoid arthritis.\\n\\nOsteoarthritis is the most common type of arthritis. When the cartilage – the slick, cushioning surface on the ends of bones – wears away, bone rubs against bone, causing pain, swelling and stiffness. Over time, joints can lose strength and pain may become chronic. Risk factors include excess weight, family history, age and previous injury (an anterior cruciate ligament, or ACL, tear, for example). \\n\\nRheumatoid arthritis is a chronic inflammatory disorder that can affect more than just your joints. In some people, the condition also can damage a wide variety of body systems, including the skin, eyes, lungs, heart and blood vessels.\\n\\nAn autoimmune disorder, rheumatoid arthritis occurs when your immune system mistakenly attacks your own body's tissues.\\n\\nUnlike the wear-and-tear damage of osteoarthritis, rheumatoid arthritis affects the lining of your joints, causing a painful swelling that can eventually result in bone erosion and joint deformity.\\n\\nThe inflammation associated with rheumatoid arthritis is what can damage other parts of the body as well. While new types of medications have improved treatment options dramatically, severe rheumatoid arthritis can still cause physical disabilities.\\n\\nDiagnosis:\\nX-rays\\nBlood Tests\\nMRI\\nCT Scans\", 'Tuberculosis': \"Tuberculosis (TB) is a potentially serious infectious disease that mainly affects your lungs. The bacteria that cause tuberculosis are spread from one person to another through tiny droplets released into the air via coughs and sneezes.\\n\\nMany strains of tuberculosis resist the drugs most used to treat the disease. People with active tuberculosis must take several types of medications for many months to eradicate the infection and prevent development of antibiotic resistance.\\n\\nAlthough your body may harbor the bacteria that cause tuberculosis, your immune system usually can prevent you from becoming sick. For this reason, doctors make a distinction between:\\n\\nLatent TB. In this condition, you have a TB infection, but the bacteria remain in your body in an inactive state and cause no symptoms. Latent TB, also called inactive TB or TB infection, isn't contagious. It can turn into active TB, so treatment is important for the person with latent TB and to help control the spread of TB. An estimated 2 billion people have latent TB.\\n\\nActive TB. This condition makes you sick and can spread to others. It can occur in the first few weeks after infection with the TB bacteria, or it might occur years later.\\n\\nAlthough tuberculosis is contagious, it's not easy to catch. You're much more likely to get tuberculosis from someone you live with or work with than from a stranger. Most people with active TB who've had appropriate drug treatment for at least two weeks are no longer contagious.\\n\\nThe most commonly used diagnostic tool for tuberculosis is a simple skin test, though blood tests are becoming more commonplace. A small amount of a substance called PPD tuberculin is injected just below the skin of your inside forearm. You should feel only a slight needle prick.\\n\\nWithin 48 to 72 hours, a health care professional will check your arm for swelling at the injection site. A hard, raised red bump means you're likely to have TB infection. The size of the bump determines whether the test results are significant.\", 'Asthma': 'Asthma is a common long-term inflammatory disease of the airways of the lungs. \\nIt is characterized by variable and recurring symptoms, reversible airflow obstruction, and bronchospasm.\\n\\nAsthma is thought to be caused by a combination of genetic and environmental factors.\\nEnvironmental factors include exposure to air pollution and allergens.\\n\\nOther potential triggers include medications such as aspirin and beta blockers.\\n\\nDiagnosis:\\nDiagnosis is usually based on the pattern of symptoms, response to therapy over time, and spirometry.\\n\\nAsthma is classified according to the frequency of symptoms, forced expiratory volume in one second (FEV1), and peak expiratory flow rate.\\n\\nIt may also be classified as atopic or non-atopic, where atopy refers to a predisposition toward developing a type 1 hypersensitivity reaction.', 'Sinusitis': \"Acute sinusitis (acute rhinosinusitis) causes the cavities around your nasal passages (sinuses) to become inflamed and swollen. This interferes with drainage and causes mucus to build up.\\n\\nWith acute sinusitis, it might be difficult to breathe through your nose. The area around your eyes and face might feel swollen, and you might have throbbing facial pain or a headache.\\n\\nAcute sinusitis is mostly caused by the common cold. Unless a bacterial infection develops, most cases resolve within a week to 10 days.\\n\\nIn most cases, home remedies are all that's needed to treat acute sinusitis. However, persistent sinusitis can lead to serious infections and other complications. Sinusitis that lasts more than 12 weeks despite medical treatment is called chronic sinusitis.\\n\\nAcute sinusitis is most often caused by the common cold, which is a viral infection. In some cases, a bacterial infection develops.\\n\\nYou may be at increased risk of getting sinusitis if you have:\\n\\nHay fever or another allergic condition that affects your sinuses\\nA nasal passage abnormality, such as a deviated nasal septum, nasal polyps or tumors\\nA medical condition such as cystic fibrosis or an immune system disorder such as HIV/AIDS\\n\\nDiagnosis:\\n\\nRedness and swelling of the nasal passages\\n\\nPurulent (pus like) drainage from the nasal passages (the symptom most likely to clinically diagnose a sinus infection)\\n\\nTenderness to percussion (tapping) over the cheeks or forehead region of the sinuses\\n\\nSwelling about the eyes and cheeks.\", 'Epilepsy': \"Epilepsy is a central nervous system (neurological) disorder in which brain activity becomes abnormal, causing seizures or periods of unusual behavior, sensations, and sometimes loss of awareness.\\n\\nAnyone can develop epilepsy. Epilepsy affects both males and females of all races, ethnic backgrounds and ages.\\n\\nSeizure symptoms can vary widely. Some people with epilepsy simply stare blankly for a few seconds during a seizure, while others repeatedly twitch their arms or legs. \\n\\nHaving a single seizure doesn't mean you have epilepsy. At least two unprovoked seizures are generally required for an epilepsy diagnosis.\", 'Heart Disease': 'Heart disease describes a range of conditions that affect your heart. Diseases under the heart disease umbrella include blood vessel diseases, such as coronary artery disease; heart rhythm problems (arrhythmias); and heart defects you\\'re born with (congenital heart defects), among others.\\n\\nThe term \"heart disease\" is often used interchangeably with the term \"cardiovascular disease.\" Cardiovascular disease generally refers to conditions that involve narrowed or blocked blood vessels that can lead to a heart attack, chest pain (angina) or stroke. Other heart conditions, such as those that affect your heart\\'s muscle, valves or rhythm, also are considered forms of heart disease.\\n\\nMany forms of heart disease can be prevented or treated with healthy lifestyle choices.\\n\\nCardiovascular disease symptoms may be different for men and women.\\n\\nCauses:\\n\\nWhile cardiovascular disease can refer to different heart or blood vessel problems, the term is often used to mean damage to your heart or blood vessels by atherosclerosis, a buildup of fatty plaques in your arteries. \\n\\nPlaque buildup thickens and stiffens artery walls, which can inhibit blood flow through your arteries to your organs and tissues.\\n\\nAtherosclerosis is also the most common cause of cardiovascular disease. It can be caused by correctable problems, such as an unhealthy diet, lack of exercise, being overweight and smoking\\n\\nCommon causes of abnormal heart rhythms (arrhythmias) or conditions that can lead to arrhythmias include:\\n\\nHeart defects since birth\\nCoronary artery disease\\nHigh blood pressure\\nDiabetes\\nSmoking\\nExcessive use of alcohol or caffeine\\nDrug abuse\\nStress\\nSome over-the-counter medications, prescription medications, dietary supplements and herbal remedies\\nValvular heart disease', 'Diabetes': \"Diabetes, describes a group of metabolic diseases in which the person has high blood glucose (blood sugar), either because insulin production is inadequate, or because the body's cells do not respond properly to insulin, or both. \\n\\nDiabetes is a long-term condition that causes high blood sugar levels.\\nThere are two types of diabetes:\\n\\n1.Type 1 diabetes and 2. Type 2 diabetes\\n\\nIn Type 1 Diabetes, the body does not produce insulin. Approximately 10% of all diabetes cases are type 1.\\n\\nIn Type 2 Diabetes, the body does not produce enough insulin for proper function. Approximately 90% of all cases of diabetes worldwide are of this type.\\n\\nPeople usually develop type 1 diabetes before their 40th year, often in early adulthood or teenage years.\\n\\nDiagnosis Tests:\\n\\nGlycated hemoglobin (A1C) test\\nRandom blood sugar test\\nFasting blood sugar test\\nOral glucose tolerance test\\n\\n\\n\", 'Glaucoma': \"Glaucoma is a group of eye conditions that damage the optic nerve, which is vital to good vision. This damage is often caused by an abnormally high pressure in the eye.\\n\\nIt can occur at any age but is more common in older adults.\\n\\nGlaucoma is the result of damage to the optic nerve. As this nerve gradually deteriorates, blind spots develop in your visual field.\\n\\nThis nerve damage is usually related to increased pressure in the eye.\\n\\nElevated eye pressure is due to a buildup of a fluid (aqueous humor) that flows throughout your eye. \\n\\nThis fluid normally drains into the front of the eye (anterior chamber) through tissue (trabecular meshwork) at the angle where the iris and cornea meet.\\n\\nWhen fluid is overproduced or the drainage system doesn't work properly, the fluid can't flow out at its normal rate and pressure builds up.\\n\\nTypes of glaucoma are:\\n\\nOpen-angle glaucoma\\nAngle-closure glaucoma\\nNormal-tension glaucoma\\nPigmentary glaucoma\\n\\nDignosis:\\n\\nThe following are checked for diagnosing Glaucoma:\\n\\nPressure in eyes\\nDrainage angle of eyes\\nExamination of optic nerve for damage\\nTesting of peripheral side vision\\nMeasurement of optic nerve\\nthickness of cornea\", 'Hyperthyroidism': \"Hyperthyroidism is a condition of the thyroid. The thyroid is a small, butterfly-shaped gland located at the front of your neck. It produces tetraiodothyronine (T4) and triiodothyronine (T3), which are two primary hormones that control how your cells use energy. Your thyroid gland regulates your metabolism through the release of these hormones.\\n\\nHyperthyroidism occurs when the thyroid makes too much T4, T3, or both. Diagnosis of overactive thyroid and treatment of the underlying cause can relieve symptoms and prevent complications.\\n\\nA variety of conditions can cause hyperthyroidism. Graves' disease, an autoimmune disorder, is the most common cause of hyperthyroidism. It causes antibodies to stimulate the thyroid to secrete too much hormone. Graves’ disease occurs more often in women than in men. It tends to run in families, which suggests a genetic link. You should tell your doctor if your relatives have had the condition.\\n\\nOther causes of hyperthyroidism include:\\n\\nExcess iodine, a key ingredient in T4 and T3\\n\\nThyroiditis, or inflammation of the thyroid, which causes T4 and T3 to leak out of the gland\\n\\nTumors of the ovaries or testes\\n\\nBenign tumors of the thyroid or pituitary gland\\n\\nLarge amounts of tetraiodothyronine taken through dietary supplements or medication\\n\\nDiagnosis:\\n\\nCholesterol test\\nT4, free T4, T3 tests\\nThyroid stimulating hormone level test\\nTriglyceride test\\nThyroid scan and uptake\\nUltrasound\\nCT or MRI scans\\nRadio Iodine Uptake test\\n\\nPhysical Exam\\nBlood Tests\\nChecking for weight loss\\nChecking for protruding eyes\\nChecking for enlarged thyroid gland\\n\", 'Heat Stroke': \"Heatstroke generally occurs when an individual has been too hot for too long, whether working, exercising, or simply sitting in a hot environment.\\n\\nAlso known as sunstroke, heatstroke is a serious condition and must be considered an emergency.\\n\\nIf the body temperature rises above 40° Celsius, and the body loses the ability to cool down, it is considered to be heatstroke.\\n\\nIf left untreated, damage to internal organs can occur. The longer it is left, the more serious heatstroke can become. In some cases, heatstroke can be fatal.\\n\\nHeatstroke can be brought on by physical exertion in hot conditions, or simply by being in a hot environment\\n\\nTreating heatstroke centers around bringing body temperature down.\\n\\nHeatstroke can occur as a result of:\\n\\nExposure to a hot environment.\\n\\nIn a type of heatstroke, called nonexertional (classic) heatstroke, being in a hot environment leads to a rise in core body temperature. This type of heatstroke typically occurs after exposure to hot, humid weather, especially for prolonged periods. \\n\\nIt occurs most often in older adults and in people with chronic illness.\\n\\nStrenuous activity. Exertional heatstroke is caused by an increase in core body temperature brought on by intense physical activity in hot weather.\\n\\nAnyone exercising or working in hot weather can get exertional heatstroke, but it's most likely to occur if you're not used to high temperatures.\", 'Hypothermia': \"Hypothermia is a medical emergency that occurs when your body loses heat faster than it can produce heat, causing a dangerously low body temperature. Normal body temperature is around 98.6 F (37 C). Hypothermia (hi-poe-THUR-me-uh) occurs as your body temperature falls below 95 F (35 C).\\n\\nWhen your body temperature drops, your heart, nervous system and other organs can't work normally. Left untreated, hypothermia can eventually lead to complete failure of your heart and respiratory system and eventually to death.\\n\\nHypothermia is often caused by exposure to cold weather or immersion in cold water. Primary treatments for hypothermia are methods to warm the body back to a normal temperature.\\n\\nHypothermia has two main types of causes. It classically occurs from exposure to extreme cold.\\n\\nIt may also occur from any condition that decreases heat production or increases heat loss.\\nCommonly this includes alcohol intoxication but may also include low blood sugar, anorexia, and advanced age.\\n\\nBody temperature is usually maintained near a constant level of 36.5–37.5 °C (97.7–99.5 °F) through thermoregulation.\\n\\nEfforts to increase body temperature involve shivering, increased voluntary activity, and putting on warmer clothing.\\n\\nDiagnosis:\\n\\nThe diagnosis of hypothermia is usually apparent based on a person's physical signs and the conditions in which the person with hypothermia became ill or was found. Blood tests also can help confirm hypothermia and its severity.\\n\\nA diagnosis may not be readily apparent, however, if the symptoms are mild, as when an older person who is indoors has symptoms of confusion, lack of coordination and speech problems.\"}\n",
            "\n",
            "\n",
            "{'Jaundice': 'En construcciòn', 'Alzheimers': 'No treatments stop or reverse its progression, though some may temporarily improve symptoms but medication and management strategies may temporarily improve symptoms.\\n\\nMedication:\\n\\nCognition-enhancing medication\\nImproves mental function, lowers blood pressure and may balance mood.', 'Arthritis': \"Arthritis treatment focuses on relieving symptoms and improving joint function. You may need to try several different treatments, or combinations of treatments, before you determine what works best for you.\\n\\nMedications\\nThe medications used to treat arthritis vary depending on the type of arthritis. Commonly used arthritis medications include:\\n\\nAnalgesics. These medications help reduce pain, but have no effect on inflammation.\\n\\nNonsteroidal anti-inflammatory drugs (NSAIDs). NSAIDs reduce both pain and inflammation. Over-the-counter NSAIDs include ibuprofen and naproxen sodium. Oral NSAIDs can cause stomach irritation, and some may increase your risk of heart attack or stroke.\\n\\nDisease-modifying antirheumatic drugs (DMARDs). Often used to treat rheumatoid arthritis, DMARDs slow or stop your immune system from attacking your joints.\\n\\nTherapy\\nPhysical therapy can be helpful for some types of arthritis. Exercises can improve range of motion and strengthen the muscles surrounding joints. In some cases, splints or braces may be warranted.\\n\\nSurgery\\n\\nIf conservative measures don't help, your doctor may suggest surgery, such as:\\n\\nJoint repair. In some instances, joint surfaces can be smoothed or realigned to reduce pain and improve function. These types of procedures can often be performed arthroscopically — through small incisions over the joint.\\n\\nJoint replacement. This procedure removes your damaged joint and replaces it with an artificial one. Joints most commonly replaced are hips and knees.\\n\\nJoint fusion. This procedure is more often used for smaller joints, such as those in the wrist, ankle and fingers. It removes the ends of the two bones in the joint and then locks those ends together until they heal into one rigid unit.\", 'Tuberculosis': 'En construcciòn', 'Asthma': 'There is no cure for asthma.\\n\\nSymptoms can be prevented by avoiding triggers, such as allergens and irritants, and by the use of inhaled corticosteroids.\\n\\nAnti-inflammatory drugs, particularly inhaled steroids, are the most important treatment for most people with asthma.\\n\\nBronchodilators relieve the symptoms of asthma by relaxing the muscles that can tighten around the airways. This helps to open up the airways. \\n\\nShort-acting bronchodilator inhalers are often referred to as rescue inhalers and are used to quickly relieve the cough, wheeze, chest tightness, and shortness of breath caused by asthma\\n\\nLong-acting beta agonists (LABA) or antileukotriene agents may be used in addition to inhaled corticosteroids if asthma symptoms remain uncontrolled.\\n\\nTreatment of rapidly worsening symptoms is usually with an inhaled short-acting beta-2 agonist such as salbutamol and corticosteroids taken by mouth. In very severe cases, intravenous corticosteroids, magnesium sulfate, and hospitalization may be required.', 'Sinusitis': 'En construcciòn', 'Epilepsy': 'En construcciòn', 'Heart Disease': 'En construcciòn', 'Diabetes': 'Patients with type 1 diabetes will need to take insulin injections for the rest of their life. They must also ensure proper blood-glucose levels by carrying out regular blood tests and following a special diet.\\n\\nType 2 patients need to eat healthily, be physically active, and test their blood glucose. They may also need to take oral medication, and/or insulin to control blood glucose levels.\\n\\nTreatment for type 1 diabetes includes:\\n\\nTaking insulin\\nCarbohydrate, fat and protein counting\\nFrequent blood sugar monitoring\\nEating healthy foods\\nExercising regularly and maintaining a healthy weight\\n\\nTypes of insulin are many and include:\\n\\nShort-acting (regular) insulin\\nRapid-acting insulin\\nIntermediate-acting (NPH) insulin\\nLong-acting insulin\\n\\nOther Medications:\\n\\nHigh blood pressure medications\\nAspirin\\nCholesterol-lowering drugs\\n\\nTreatment for type 2 diabetes includes:\\n\\nHealthy eating\\nRegular exercise\\nPossibly, diabetes medication or insulin therapy\\nBlood sugar monitoring\\n\\nExamples of possible treatments for type 2 diabetes include:\\n\\nMetformin (Glucophage, Glumetza, others)\\nSulfonylureas\\nMeglitinides\\nThiazolidinediones\\nInsulin therapy', 'Glaucoma': 'En construcciòn', 'Hyperthyroidism': 'En construcciòn', 'Heat Stroke': 'En construcciòn', 'Hypothermia': 'En construcciòn'}\n",
            "\n",
            "\n"
          ]
        }
      ]
    },
    {
      "cell_type": "markdown",
      "source": [
        "Generando la clase para la base de conocimiento"
      ],
      "metadata": {
        "id": "sA6BHcLKBEfi"
      }
    },
    {
      "cell_type": "code",
      "source": [
        "class Sintomas(Fact):\n",
        "    \"\"\"Info about the symptoms.\"\"\"\n",
        "    pass"
      ],
      "metadata": {
        "id": "4avDl4p7nn4C"
      },
      "execution_count": null,
      "outputs": []
    },
    {
      "cell_type": "markdown",
      "source": [
        "Generando la clase para el motor de inferencia según las reglas establecidas"
      ],
      "metadata": {
        "id": "_t5SbPDRBP-h"
      }
    },
    {
      "cell_type": "code",
      "source": [
        "class Diagnostico(KnowledgeEngine):\n",
        "  @Rule(Sintomas(headache=\"no\",back_pain=\"no\",chest_pain=\"no\",cough=\"no\",fainting=\"no\",sore_throat=\"no\",fatigue=\"yes\",restlessness=\"no\",low_body_temp=\"no\",fever=\"yes\",sunken_eyes=\"no\",nausea=\"yes\",blurred_vision=\"no\"))\n",
        "  def disease_0(self):\n",
        "    print(\"The most probable disease that you have is: \",\"Jaundice\")\n",
        "    print(\"\")\n",
        "    print(d_desc_map[\"Jaundice\"])\n",
        "    print(\"\")\n",
        "    print(d_treatment_map[\"Jaundice\"])\n",
        "  \n",
        "  @Rule(Sintomas(headache=\"yes\",back_pain=\"no\",chest_pain=\"no\",cough=\"no\",fainting=\"no\",sore_throat=\"no\",fatigue=\"no\",restlessness=\"no\",low_body_temp=\"no\",fever=\"no\",sunken_eyes=\"no\",nausea=\"yes\",blurred_vision=\"yes\"))\n",
        "  def disease_1(self):\n",
        "    print(\"The most probable disease that you have is: \",\"Glaucoma\")\n",
        "    print(\"\")\n",
        "    print(d_desc_map[\"Glaucoma\"])\n",
        "    print(\"\")\n",
        "    print(d_treatment_map[\"Glaucoma\"])\n",
        "\n",
        "  @Rule(Sintomas(headache=\"no\",back_pain=\"no\",chest_pain=\"no\",cough=\"no\",fainting=\"no\",sore_throat=\"no\",fatigue=\"yes\",restlessness=\"no\",low_body_temp=\"no\",fever=\"no\",sunken_eyes=\"no\",nausea=\"yes\",blurred_vision=\"no\"))\n",
        "  def disease_2(self):\n",
        "    print(\"The most probable disease that you have is: \",\"Hyperthyroidism\")\n",
        "    print(\"\")\n",
        "    print(d_desc_map[\"Hyperthyroidism\"])\n",
        "    print(\"\")\n",
        "    print(d_treatment_map[\"Hyperthyroidism\"])\n",
        "\n",
        "  @Rule(Sintomas(headache=\"yes\",back_pain=\"no\",chest_pain=\"no\",cough=\"no\",fainting=\"no\",sore_throat=\"no\",fatigue=\"no\",restlessness=\"no\",low_body_temp=\"no\",fever=\"yes\",sunken_eyes=\"no\",nausea=\"yes\",blurred_vision=\"no\"))\n",
        "  def disease_3(self):\n",
        "    print(\"The most probable disease that you have is: \",\"Heat Stroke\")\n",
        "    print(\"\")\n",
        "    print(d_desc_map[\"Heat Stroke\"])\n",
        "    print(\"\")\n",
        "    print(d_treatment_map[\"Heat Stroke\"])\n",
        "\n",
        "  @Rule(Sintomas(headache=\"no\",back_pain=\"no\",chest_pain=\"no\",cough=\"no\",fainting=\"yes\",sore_throat=\"no\",fatigue=\"no\",restlessness=\"no\",low_body_temp=\"yes\",fever=\"no\",sunken_eyes=\"no\",nausea=\"no\",blurred_vision=\"no\"))\n",
        "  def disease_4(self):\n",
        "    print(\"The most probable disease that you have is: \",\"Hypothermia\")\n",
        "    print(\"\")\n",
        "    print(d_desc_map[\"Hypothermia\"])\n",
        "    print(\"\")\n",
        "    print(d_treatment_map[\"Hypothermia\"])\n",
        "\n",
        "  @Rule(Sintomas(headache=\"no\",back_pain=\"no\",chest_pain=\"no\",cough=\"no\",fainting=\"no\",sore_throat=\"no\",fatigue=\"no\",restlessness=\"yes\",low_body_temp=\"no\",fever=\"no\",sunken_eyes=\"no\",nausea=\"no\",blurred_vision=\"no\"))\n",
        "  def disease_5(self):\n",
        "    print(\"The most probable disease that you have is: \",\"Alzheimers\")\n",
        "    print(\"\")\n",
        "    print(d_desc_map[\"Alzheimers\"])\n",
        "    print(\"\")\n",
        "    print(d_treatment_map[\"Alzheimers\"])\n",
        "\n",
        "  @Rule(Sintomas(headache=\"no\",back_pain=\"yes\",chest_pain=\"no\",cough=\"no\",fainting=\"no\",sore_throat=\"no\",fatigue=\"yes\",restlessness=\"no\",low_body_temp=\"no\",fever=\"no\",sunken_eyes=\"no\",nausea=\"no\",blurred_vision=\"no\"))\n",
        "  def disease_6(self):\n",
        "    print(\"The most probable disease that you have is: \",\"Arthritis\")\n",
        "    print(\"\")\n",
        "    print(d_desc_map[\"Arthritis\"])\n",
        "    print(\"\")\n",
        "    print(d_treatment_map[\"Arthritis\"])\n",
        "\n",
        "  @Rule(Sintomas(headache=\"no\",back_pain=\"no\",chest_pain=\"yes\",cough=\"yes\",fainting=\"no\",sore_throat=\"no\",fatigue=\"no\",restlessness=\"no\",low_body_temp=\"no\",fever=\"yes\",sunken_eyes=\"no\",nausea=\"no\",blurred_vision=\"no\"))\n",
        "  def disease_7(self):\n",
        "    print(\"The most probable disease that you have is: \",\"Tuberculosis\")\n",
        "    print(\"\")\n",
        "    print(d_desc_map[\"Tuberculosis\"])\n",
        "    print(\"\")\n",
        "    print(d_treatment_map[\"Tuberculosis\"])    \n",
        "\n",
        "  @Rule(Sintomas(headache=\"no\",back_pain=\"no\",chest_pain=\"yes\",cough=\"yes\",fainting=\"no\",sore_throat=\"no\",fatigue=\"no\",restlessness=\"yes\",low_body_temp=\"no\",fever=\"no\",sunken_eyes=\"no\",nausea=\"no\",blurred_vision=\"no\"))\n",
        "  def disease_8(self):\n",
        "    print(\"The most probable disease that you have is: \",\"Asthma\")\n",
        "    print(\"\")\n",
        "    print(d_desc_map[\"Asthma\"])\n",
        "    print(\"\")\n",
        "    print(d_treatment_map[\"Asthma\"]) \n",
        "\n",
        "  @Rule(Sintomas(headache=\"yes\",back_pain=\"no\",chest_pain=\"no\",cough=\"yes\",fainting=\"no\",sore_throat=\"yes\",fatigue=\"no\",restlessness=\"no\",low_body_temp=\"no\",fever=\"yes\",sunken_eyes=\"no\",nausea=\"no\",blurred_vision=\"no\"))\n",
        "  def disease_9(self):\n",
        "    print(\"The most probable disease that you have is: \",\"Sinusitis\")\n",
        "    print(\"\")\n",
        "    print(d_desc_map[\"Sinusitis\"])\n",
        "    print(\"\")\n",
        "    print(d_treatment_map[\"Sinusitis\"])\n",
        "\n",
        "  @Rule(Sintomas(headache=\"no\",back_pain=\"no\",chest_pain=\"no\",cough=\"no\",fainting=\"no\",sore_throat=\"no\",fatigue=\"yes\",restlessness=\"no\",low_body_temp=\"no\",fever=\"no\",sunken_eyes=\"no\",nausea=\"no\",blurred_vision=\"no\"))\n",
        "  def disease_10(self):\n",
        "    print(\"The most probable disease that you have is: \",\"Epilepsy\")\n",
        "    print(\"\")\n",
        "    print(d_desc_map[\"Epilepsy\"])\n",
        "    print(\"\")\n",
        "    print(d_treatment_map[\"Epilepsy\"])\n",
        "\n",
        "  @Rule(Sintomas(headache=\"no\",back_pain=\"no\",chest_pain=\"yes\",cough=\"no\",fainting=\"no\",sore_throat=\"no\",fatigue=\"no\",restlessness=\"no\",low_body_temp=\"no\",fever=\"no\",sunken_eyes=\"no\",nausea=\"yes\",blurred_vision=\"no\"))\n",
        "  def disease_11(self):\n",
        "    print(\"The most probable disease that you have is: \",\"Heart Disease\")\n",
        "    print(\"\")\n",
        "    print(d_desc_map[\"Heart Disease\"])\n",
        "    print(\"\")\n",
        "    print(d_treatment_map[\"Heart Disease\"])\n",
        "\n",
        "  @Rule(Sintomas(headache=\"no\",back_pain=\"no\",chest_pain=\"no\",cough=\"no\",fainting=\"no\",sore_throat=\"no\",fatigue=\"yes\",restlessness=\"no\",low_body_temp=\"no\",fever=\"no\",sunken_eyes=\"no\",nausea=\"yes\",blurred_vision=\"yes\"))\n",
        "  def disease_12(self):\n",
        "    print(\"The most probable disease that you have is: \",\"Diabetes\")\n",
        "    print(\"\")\n",
        "    print(d_desc_map[\"Diabetes\"])\n",
        "    print(\"\")\n",
        "    print(d_treatment_map[\"Diabetes\"])\n"
      ],
      "metadata": {
        "id": "jPYHVEqAnsWh"
      },
      "execution_count": null,
      "outputs": []
    },
    {
      "cell_type": "code",
      "source": [
        "\n",
        "print(\"\")\n",
        "print(\"Hi! I am Dr.Yar, I am here to help you make your health better.\")\n",
        "print(\"For that you'll have to answer a few questions about your conditions\")\n",
        "print(\"Do you feel any of the following symptoms:(please just type yes/no)\")\n",
        "print(\"\")\n",
        "headache_U=input('headache:\\n')\n",
        "back_pain_U=input('back_pain:\\n')\n",
        "chest_pain_U=input('chest_pain:\\n')\n",
        "cough_U=input('cough:\\n')\n",
        "fainting_U=input('fainting:\\n')\n",
        "sore_throat_U=input('sore_throat:\\n')\n",
        "fatigue_U=input('fatigue:\\n')\n",
        "restlessness_U=input('restlessness:\\n')\n",
        "low_body_temp_U=input('low_body_temp:\\n')\n",
        "fever_U=input('fever:\\n')\n",
        "sunken_eyes_U=input('sunken_eyes:\\n')\n",
        "nausea_U=input('nausea:\\n')\n",
        "blurred_vision_U=input('blurred_vision:\\n')"
      ],
      "metadata": {
        "colab": {
          "base_uri": "https://localhost:8080/"
        },
        "id": "FT2x29gn24gB",
        "outputId": "da55530e-5942-4410-d7e0-8e0a577f49ed"
      },
      "execution_count": null,
      "outputs": [
        {
          "name": "stdout",
          "output_type": "stream",
          "text": [
            "\n",
            "Hi! I am Dr.Yar, I am here to help you make your health better.\n",
            "For that you'll have to answer a few questions about your conditions\n",
            "Do you feel any of the following symptoms:(please just type yes/no)\n",
            "\n",
            "headache:\n",
            "yes\n",
            "back_pain:\n",
            "no\n",
            "chest_pain:\n",
            "no\n",
            "cough:\n",
            "yes\n",
            "fainting:\n",
            "no\n",
            "sore_throat:\n",
            "yes\n",
            "fatigue:\n",
            "no\n",
            "restlessness:\n",
            "no\n",
            "low_body_temp:\n",
            "no\n",
            "fever:\n",
            "yes\n",
            "sunken_eyes:\n",
            "no\n",
            "nausea:\n",
            "no\n",
            "blurred_vision:\n",
            "no\n"
          ]
        }
      ]
    },
    {
      "cell_type": "code",
      "source": [
        "engine = Diagnostico()\n",
        "engine.reset()\n",
        "engine.declare(Sintomas(headache=headache_U,back_pain=back_pain_U,chest_pain=chest_pain_U,cough=cough_U,fainting=fainting_U,sore_throat=sore_throat_U,fatigue=fatigue_U,restlessness=restlessness_U,low_body_temp=low_body_temp_U,fever=fever_U,sunken_eyes=sunken_eyes_U,nausea=nausea_U,blurred_vision=blurred_vision_U))\n",
        "engine.run()"
      ],
      "metadata": {
        "colab": {
          "base_uri": "https://localhost:8080/"
        },
        "id": "i3oZuKv54IJp",
        "outputId": "3f7e0f5d-b3db-44d7-c256-e81b5fc3700b"
      },
      "execution_count": null,
      "outputs": [
        {
          "output_type": "stream",
          "name": "stdout",
          "text": [
            "The most probable disease that you have is:  Sinusitis\n",
            "\n",
            "Acute sinusitis (acute rhinosinusitis) causes the cavities around your nasal passages (sinuses) to become inflamed and swollen. This interferes with drainage and causes mucus to build up.\n",
            "\n",
            "With acute sinusitis, it might be difficult to breathe through your nose. The area around your eyes and face might feel swollen, and you might have throbbing facial pain or a headache.\n",
            "\n",
            "Acute sinusitis is mostly caused by the common cold. Unless a bacterial infection develops, most cases resolve within a week to 10 days.\n",
            "\n",
            "In most cases, home remedies are all that's needed to treat acute sinusitis. However, persistent sinusitis can lead to serious infections and other complications. Sinusitis that lasts more than 12 weeks despite medical treatment is called chronic sinusitis.\n",
            "\n",
            "Acute sinusitis is most often caused by the common cold, which is a viral infection. In some cases, a bacterial infection develops.\n",
            "\n",
            "You may be at increased risk of getting sinusitis if you have:\n",
            "\n",
            "Hay fever or another allergic condition that affects your sinuses\n",
            "A nasal passage abnormality, such as a deviated nasal septum, nasal polyps or tumors\n",
            "A medical condition such as cystic fibrosis or an immune system disorder such as HIV/AIDS\n",
            "\n",
            "Diagnosis:\n",
            "\n",
            "Redness and swelling of the nasal passages\n",
            "\n",
            "Purulent (pus like) drainage from the nasal passages (the symptom most likely to clinically diagnose a sinus infection)\n",
            "\n",
            "Tenderness to percussion (tapping) over the cheeks or forehead region of the sinuses\n",
            "\n",
            "Swelling about the eyes and cheeks.\n",
            "\n",
            "En construcciòn\n"
          ]
        }
      ]
    }
  ]
}